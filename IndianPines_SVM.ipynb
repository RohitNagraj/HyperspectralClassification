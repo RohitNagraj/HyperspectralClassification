{
 "cells": [
  {
   "cell_type": "code",
   "execution_count": 16,
   "metadata": {},
   "outputs": [],
   "source": [
    "from scipy import io\n",
    "import spectral\n",
    "import visdom\n",
    "import numpy as np"
   ]
  },
  {
   "cell_type": "code",
   "execution_count": 2,
   "metadata": {},
   "outputs": [],
   "source": [
    "datasets = {'IndianPines': {\n",
    "            'urls': ['http://www.ehu.eus/ccwintco/uploads/6/67/Indian_pines_corrected.mat',\n",
    "                     'http://www.ehu.eus/ccwintco/uploads/c/c4/Indian_pines_gt.mat'],\n",
    "            'img': 'Indian_pines_corrected.mat',\n",
    "            'gt': 'Indian_pines_gt.mat'\n",
    "            }}"
   ]
  },
  {
   "cell_type": "code",
   "execution_count": 3,
   "metadata": {},
   "outputs": [],
   "source": [
    "img = io.loadmat('./Dataset/Indian_pines_corrected.mat')"
   ]
  },
  {
   "cell_type": "code",
   "execution_count": 4,
   "metadata": {},
   "outputs": [],
   "source": [
    "img = img['indian_pines_corrected']"
   ]
  },
  {
   "cell_type": "code",
   "execution_count": 5,
   "metadata": {},
   "outputs": [
    {
     "data": {
      "text/plain": [
       "(145, 145, 200)"
      ]
     },
     "execution_count": 5,
     "metadata": {},
     "output_type": "execute_result"
    }
   ],
   "source": [
    "img.shape\n",
    "# img is a numpy array of shape (145, 145, 200)"
   ]
  },
  {
   "cell_type": "code",
   "execution_count": 6,
   "metadata": {},
   "outputs": [],
   "source": [
    "rgb_bands = (43, 21, 11) # AVIRIS sensor"
   ]
  },
  {
   "cell_type": "code",
   "execution_count": 7,
   "metadata": {},
   "outputs": [],
   "source": [
    "gt = io.loadmat('./Dataset/Indian_pines_gt.mat')"
   ]
  },
  {
   "cell_type": "code",
   "execution_count": 8,
   "metadata": {},
   "outputs": [],
   "source": [
    "gt = gt['indian_pines_gt']"
   ]
  },
  {
   "cell_type": "code",
   "execution_count": 9,
   "metadata": {},
   "outputs": [
    {
     "data": {
      "text/plain": [
       "(145, 145)"
      ]
     },
     "execution_count": 9,
     "metadata": {},
     "output_type": "execute_result"
    }
   ],
   "source": [
    "gt.shape"
   ]
  },
  {
   "cell_type": "code",
   "execution_count": 10,
   "metadata": {},
   "outputs": [],
   "source": [
    "label_values = [\"Undefined\", \"Alfalfa\", \"Corn-notill\", \"Corn-mintill\",\n",
    "                        \"Corn\", \"Grass-pasture\", \"Grass-trees\",\n",
    "                        \"Grass-pasture-mowed\", \"Hay-windrowed\", \"Oats\",\n",
    "                        \"Soybean-notill\", \"Soybean-mintill\", \"Soybean-clean\",\n",
    "                        \"Wheat\", \"Woods\", \"Buildings-Grass-Trees-Drives\",\n",
    "                        \"Stone-Steel-Towers\"]"
   ]
  },
  {
   "cell_type": "code",
   "execution_count": 11,
   "metadata": {},
   "outputs": [],
   "source": [
    "ignored_labels = [0]"
   ]
  },
  {
   "cell_type": "markdown",
   "metadata": {},
   "source": [
    "Now,\n",
    "\n",
    "img: Hyperspectral image of 145x145 resolution, with 200 bands\n",
    "\n",
    "gt: Ground truth labels for each pixel (ranging from 0 to 16)\n",
    "\n",
    "label_values: If gt value is 3, it belongs to class label label_values[3]\n",
    "\n",
    "ignored_labels: Pixels that are undefined\n",
    "\n",
    "rgb_bands: Image channels that belong to R, G and B color band"
   ]
  },
  {
   "cell_type": "code",
   "execution_count": 28,
   "metadata": {},
   "outputs": [],
   "source": [
    "rgb = spectral.get_rgb(img, rgb_bands) # rgb is in range 0 to 1"
   ]
  },
  {
   "cell_type": "code",
   "execution_count": 14,
   "metadata": {},
   "outputs": [
    {
     "name": "stderr",
     "output_type": "stream",
     "text": [
      "Setting up a new session...\n"
     ]
    }
   ],
   "source": [
    "# Run visdom server by running 'visdom' in the terminal\n",
    "viz = visdom.Visdom()"
   ]
  },
  {
   "cell_type": "code",
   "execution_count": 29,
   "metadata": {},
   "outputs": [],
   "source": [
    "rgb = np.asarray(255 * rgb, dtype='uint8') # to bring it to 0 to 255 and integer values"
   ]
  },
  {
   "cell_type": "code",
   "execution_count": 32,
   "metadata": {},
   "outputs": [],
   "source": [
    "caption = \"RGB (bands {}, {}, {})\".format(*rgb_bands)"
   ]
  },
  {
   "cell_type": "code",
   "execution_count": 34,
   "metadata": {},
   "outputs": [
    {
     "data": {
      "text/plain": [
       "(145, 145, 3)"
      ]
     },
     "execution_count": 34,
     "metadata": {},
     "output_type": "execute_result"
    }
   ],
   "source": [
    "rgb.shape"
   ]
  },
  {
   "cell_type": "code",
   "execution_count": 39,
   "metadata": {},
   "outputs": [
    {
     "data": {
      "text/plain": [
       "'window_3849be8169c590'"
      ]
     },
     "execution_count": 39,
     "metadata": {},
     "output_type": "execute_result"
    }
   ],
   "source": [
    "viz.images([np.transpose(rgb, (2, 0, 1))], opts={'caption':caption})\n",
    "# Transpose is used and not reshape because transpose keeps the data\n",
    "# relativity intact, while reshape doesnt"
   ]
  },
  {
   "cell_type": "code",
   "execution_count": null,
   "metadata": {},
   "outputs": [],
   "source": [
    "# converting 145x145 labels into a color coded image\n",
    "arr_3d = np.zeros((*gt.shape, 3), dtype='uint8')\n"
   ]
  }
 ],
 "metadata": {
  "kernelspec": {
   "display_name": "Python 3",
   "language": "python",
   "name": "python3"
  },
  "language_info": {
   "codemirror_mode": {
    "name": "ipython",
    "version": 3
   },
   "file_extension": ".py",
   "mimetype": "text/x-python",
   "name": "python",
   "nbconvert_exporter": "python",
   "pygments_lexer": "ipython3",
   "version": "3.7.4"
  }
 },
 "nbformat": 4,
 "nbformat_minor": 2
}
